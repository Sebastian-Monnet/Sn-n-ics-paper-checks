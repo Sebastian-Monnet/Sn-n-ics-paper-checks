{
 "cells": [
  {
   "cell_type": "code",
   "execution_count": 1,
   "id": "6e8a287d",
   "metadata": {},
   "outputs": [],
   "source": [
    "def A(p: int, q: float, t: int):\n",
    "    if p == 2:\n",
    "        return q**(1 - (t//2)) * (q**(t//2) - 1) / (q - 1)\n",
    "    else:\n",
    "        factor_1 = q**(-p*(p-2))\n",
    "        factor_2 = (q**((p-1)*(p-2)) - 1) / (q**(p-2) - 1)\n",
    "        factor_3 = (q**(-(p-1)**2 * (t//p)) - 1) / (q**(-(p-1)**2) - 1)\n",
    "        return factor_1 * factor_2 * factor_3"
   ]
  },
  {
   "cell_type": "code",
   "execution_count": 2,
   "id": "a4ac1d76",
   "metadata": {},
   "outputs": [],
   "source": [
    "def B(p: int, q: float, t: int):\n",
    "    if p == 2:\n",
    "        return 0\n",
    "    else:\n",
    "        factor_1 = q**(-(t//p)) \n",
    "        factor_2_numerator = q**(- (p-2) * (t+1)) - q**(\n",
    "                - (p-2) * ((t//p)*p + 2)\n",
    "        )\n",
    "        factor_2_denominator = q**(-(p-2)) - 1\n",
    "        return factor_1 * factor_2_numerator / factor_2_denominator"
   ]
  },
  {
   "cell_type": "code",
   "execution_count": 3,
   "id": "076e2513",
   "metadata": {},
   "outputs": [],
   "source": [
    "def indi(statement):\n",
    "    if statement:\n",
    "        return 1\n",
    "    else:\n",
    "        return 0\n",
    "\n",
    "def raw_sum(p: int, q: float, t: int):\n",
    "    total = 0\n",
    "    for c in range(1, t+1):\n",
    "        if c % p == 1:\n",
    "            continue\n",
    "        contrib = q**(-(p-2)*c - ((c-2)//p))\n",
    "        total += contrib \n",
    "    return total "
   ]
  },
  {
   "cell_type": "code",
   "execution_count": 4,
   "id": "db3fda8e",
   "metadata": {},
   "outputs": [],
   "source": [
    "import numpy as np\n",
    "\n",
    "def test(p: int, q: float, t: int, eps: float=1e-10):\n",
    "    LHS = raw_sum(p, q, t)\n",
    "    RHS = indi(t >= p) * A(p, q, t) + indi((t%p) not in [0,1]) * B(p, q, t)\n",
    "    \n",
    "    log_diff = np.log(LHS) - np.log(RHS)\n",
    "    return abs(log_diff) < eps"
   ]
  },
  {
   "cell_type": "code",
   "execution_count": 5,
   "id": "f9c9c6b7",
   "metadata": {},
   "outputs": [],
   "source": [
    "test_p = [2, 3, 4, 5, 6, 7, 8, 9, 10, 19]\n",
    "test_q = [0.94, 4.11481466, 6.36727526, 5.89929243, 2.97699314, 6.9333187 ,\n",
    "       8.83514653, 1.37533003, 6.92468428, 7.89250885, 7.05028378]\n",
    "\n",
    "test_t = [2,3,4,5, 8, 10, 17, 33, 39, 47, 49, 54, 56, 68, 74, 76, 80, 81, 84, 87, 90, 96]"
   ]
  },
  {
   "cell_type": "code",
   "execution_count": 6,
   "id": "061966f0",
   "metadata": {},
   "outputs": [
    {
     "name": "stdout",
     "output_type": "stream",
     "text": [
      "No counterexamples found\n"
     ]
    }
   ],
   "source": [
    "counterexample_found = False\n",
    "for p in test_p:\n",
    "    for q in test_q:\n",
    "        for t in test_t:\n",
    "            try:\n",
    "                if not test(p,q,t):\n",
    "                    print(p,q,t)\n",
    "                    counterexample_found = True \n",
    "            except:\n",
    "                print(f\"Error encountered: {p,q,t}\")\n",
    "\n",
    "if not counterexample_found:\n",
    "    print(\"No counterexamples found\")"
   ]
  }
 ],
 "metadata": {
  "kernelspec": {
   "display_name": "Python 3 (ipykernel)",
   "language": "python",
   "name": "python3"
  },
  "language_info": {
   "codemirror_mode": {
    "name": "ipython",
    "version": 3
   },
   "file_extension": ".py",
   "mimetype": "text/x-python",
   "name": "python",
   "nbconvert_exporter": "python",
   "pygments_lexer": "ipython3",
   "version": "3.8.9"
  }
 },
 "nbformat": 4,
 "nbformat_minor": 5
}
